{
 "cells": [
  {
   "cell_type": "markdown",
   "metadata": {
    "collapsed": true,
    "pycharm": {
     "is_executing": false,
     "name": "#%% md\n"
    }
   },
   "source": [
    "# Funciones"
   ]
  },
  {
   "cell_type": "markdown",
   "source": [
    "## Extraer datos \n"
   ],
   "metadata": {
    "collapsed": false,
    "pycharm": {
     "name": "#%% md\n",
     "is_executing": false
    }
   }
  },
  {
   "cell_type": "markdown",
   "source": [
    "### filmaffinity"
   ],
   "metadata": {
    "collapsed": false,
    "pycharm": {
     "name": "#%% md\n"
    }
   }
  },
  {
   "cell_type": "code",
   "execution_count": 157,
   "outputs": [
    {
     "data": {
      "text/plain": "[{'img': 'https://pics.filmaffinity.com/joker-790658206-msmall.jpg',\n  'rating': '8,5',\n  'rating_count': '24156',\n  'name': 'joker'},\n {'img': 'https://pics.filmaffinity.com/di_jiu_tian_chang-358837691-msmall.jpg',\n  'rating': '7,7',\n  'rating_count': '480',\n  'name': 'hasta siempre, hijo mío'},\n {'img': 'https://pics.filmaffinity.com/portrait_de_la_jeune_fille_en_feu-111604730-msmall.jpg',\n  'rating': '7,5',\n  'rating_count': '199',\n  'name': 'retrato de una mujer en llamas'},\n {'img': 'https://pics.filmaffinity.com/o_que_arde-658148396-msmall.jpg',\n  'rating': '7,5',\n  'rating_count': '765',\n  'name': 'lo que arde'},\n {'img': 'https://pics.filmaffinity.com/toy_story_4-462756582-msmall.jpg',\n  'rating': '7,4',\n  'rating_count': '12919',\n  'name': 'toy story 4'},\n {'img': 'https://pics.filmaffinity.com/amazing_grace-815000524-msmall.jpg',\n  'rating': '7,3',\n  'rating_count': '251',\n  'name': 'amazing grace'},\n {'img': 'https://pics.filmaffinity.com/once_upon_a_time_in_hollywood-987163522-msmall.jpg',\n  'rating': '7,2',\n  'rating_count': '24831',\n  'name': 'érase una vez en... hollywood'},\n {'img': 'https://pics.filmaffinity.com/ahlat_agaci-322341233-msmall.jpg',\n  'rating': '7,1',\n  'rating_count': '659',\n  'name': 'el peral salvaje'},\n {'img': 'https://pics.filmaffinity.com/el_crack_cero-362210767-msmall.jpg',\n  'rating': '7,0',\n  'rating_count': '537',\n  'name': 'el crack cero'},\n {'img': 'https://pics.filmaffinity.com/mientras_dure_la_guerra-347846340-msmall.jpg',\n  'rating': '6,9',\n  'rating_count': '5476',\n  'name': 'mientras dure la guerra'},\n {'img': 'https://pics.filmaffinity.com/the_reports_on_sarah_and_saleem-922450654-msmall.jpg',\n  'rating': '6,9',\n  'rating_count': '219',\n  'name': 'los informes sobre sarah y saleem'},\n {'img': 'https://pics.filmaffinity.com/downton_abbey-696662442-msmall.jpg',\n  'rating': '6,9',\n  'rating_count': '1041',\n  'name': 'downton abbey'},\n {'img': 'https://pics.filmaffinity.com/quien_a_hierro_mata-621396350-msmall.jpg',\n  'rating': '6,8',\n  'rating_count': '4045',\n  'name': 'quien a hierro mata'},\n {'img': 'https://pics.filmaffinity.com/a_rainy_day_in_new_york-323481157-msmall.jpg',\n  'rating': '6,8',\n  'rating_count': '1345',\n  'name': 'día de lluvia en nueva york'},\n {'img': 'https://pics.filmaffinity.com/aute_retrato-716754237-msmall.jpg',\n  'rating': '6,7',\n  'rating_count': '43',\n  'name': 'aute retrato'},\n {'img': 'https://pics.filmaffinity.com/the_lion_king-356972018-msmall.jpg',\n  'rating': '6,6',\n  'rating_count': '10782',\n  'name': 'el rey león'},\n {'img': 'https://pics.filmaffinity.com/monsieur_sir-692915896-msmall.jpg',\n  'rating': '6,6',\n  'rating_count': '106',\n  'name': 'señor'},\n {'img': 'https://pics.filmaffinity.com/zombieland_double_tap-674365283-msmall.jpg',\n  'rating': '6,4',\n  'rating_count': '74',\n  'name': 'zombieland: mata y remata'},\n {'img': 'https://pics.filmaffinity.com/five_feet_apart-293759292-msmall.jpg',\n  'rating': '6,4',\n  'rating_count': '751',\n  'name': 'a dos metros de ti'},\n {'img': 'https://pics.filmaffinity.com/abominable-320900881-mmed.jpg',\n  'rating': '6,3',\n  'rating_count': '251',\n  'name': 'abominable'},\n {'img': 'https://pics.filmaffinity.com/ready_or_not-848623092-msmall.jpg',\n  'rating': '6,3',\n  'rating_count': '791',\n  'name': 'noche de bodas'},\n {'img': 'https://pics.filmaffinity.com/rambo_last_blood-756933079-msmall.jpg',\n  'rating': '6,3',\n  'rating_count': '1326',\n  'name': 'rambo: last blood'},\n {'img': 'https://pics.filmaffinity.com/litus-871632817-msmall.jpg',\n  'rating': '6,3',\n  'rating_count': '481',\n  'name': 'litus'},\n {'img': 'https://pics.filmaffinity.com/de_dirigent-279731374-msmall.jpg',\n  'rating': '6,3',\n  'rating_count': '84',\n  'name': 'la directora de orquesta'},\n {'img': 'https://pics.filmaffinity.com/les_plus_belles_annees_d_une_vie-521746636-msmall.jpg',\n  'rating': '6,3',\n  'rating_count': '125',\n  'name': 'los años más bellos de una vida'},\n {'img': 'https://pics.filmaffinity.com/light_of_my_life-889125289-msmall.jpg',\n  'rating': '6,3',\n  'rating_count': '416',\n  'name': 'la luz de mi vida'},\n {'img': 'https://pics.filmaffinity.com/buelos_nunca_es_tarde_para_emprender-642510185-msmall.jpg',\n  'rating': '6,2',\n  'rating_count': '134',\n  'name': '@buelos'},\n {'img': 'https://pics.filmaffinity.com/good_boys-178538564-mmed.jpg',\n  'rating': '6,1',\n  'rating_count': '715',\n  'name': 'chicos buenos'},\n {'img': 'https://pics.filmaffinity.com/ad_astra-649245505-msmall.jpg',\n  'rating': '6,1',\n  'rating_count': '8442',\n  'name': 'ad astra'},\n {'img': 'https://pics.filmaffinity.com/it_chapter_two-844935737-msmall.jpg',\n  'rating': '6,0',\n  'rating_count': '7585',\n  'name': 'it. capítulo 2'},\n {'img': 'https://pics.filmaffinity.com/padre_no_hay_mas_que_uno-911130707-msmall.jpg',\n  'rating': '5,9',\n  'rating_count': '1421',\n  'name': 'padre no hay más que uno'},\n {'img': 'https://pics.filmaffinity.com/jusqu_ici_tout_va_bien-622542991-msmall.jpg',\n  'rating': '5,9',\n  'rating_count': '43',\n  'name': 'bienvenidos al barrio'},\n {'img': 'https://pics.filmaffinity.com/angel_has_fallen-102194075-msmall.jpg',\n  'rating': '5,7',\n  'rating_count': '742',\n  'name': 'objetivo: washington d.c.'},\n {'img': 'https://pics.filmaffinity.com/agur_etxebeste-555112072-msmall.jpg',\n  'rating': '5,6',\n  'rating_count': '46',\n  'name': 'agur etxebeste!'},\n {'img': 'https://pics.filmaffinity.com/the_secret_life_of_pets_2-281399627-msmall.jpg',\n  'rating': '5,6',\n  'rating_count': '1994',\n  'name': 'mascotas 2'},\n {'img': 'https://pics.filmaffinity.com/adults_in_the_room-152448709-msmall.jpg',\n  'rating': '5,6',\n  'rating_count': '74',\n  'name': 'adults in the room (comportarse como adultos)'},\n {'img': 'https://pics.filmaffinity.com/the_angry_birds_movie_2-634390338-msmall.jpg',\n  'rating': '5,6',\n  'rating_count': '279',\n  'name': 'angry birds 2: la película'},\n {'img': 'https://pics.filmaffinity.com/dora_and_the_lost_city_of_gold-496325139-mmed.jpg',\n  'rating': '5,3',\n  'rating_count': '271',\n  'name': 'dora y la ciudad perdida'},\n {'img': 'https://pics.filmaffinity.com/cuernavaca-686750456-msmall.jpg',\n  'rating': '5,0',\n  'rating_count': '62',\n  'name': 'cuernavaca'},\n {'img': 'https://pics.filmaffinity.com/paradise_hills-313492652-msmall.jpg',\n  'rating': '4,9',\n  'rating_count': '298',\n  'name': 'paradise hills'}]"
     },
     "metadata": {},
     "output_type": "execute_result",
     "execution_count": 157
    }
   ],
   "source": [
    "from urllib.request import urlopen\n",
    "from bs4 import BeautifulSoup\n",
    "\n",
    "def get_movies_filmaffinity():\n",
    "    \n",
    "    url = 'https://www.filmaffinity.com/es/topcat.php?id=new_th_es'\n",
    "\n",
    "    page = urlopen(url)\n",
    "    soup = BeautifulSoup(page, 'html.parser')\n",
    "\n",
    "    # picture = soup.find_all('div', attrs={'class': 'mc-left'})\n",
    "    picture = soup.find_all('div', attrs={'class': 'mc-poster'})\n",
    "    rating = soup.find_all('div', attrs={'class': 'avg-rating'})\n",
    "    rating_count = soup.find_all('div', attrs={'class': 'rat-count'})\n",
    "\n",
    "    movies = []\n",
    "    for div1, div2, div3 in zip(picture, rating, rating_count):\n",
    "        # for a in div:\n",
    "        # titles.append(div.a)\n",
    "        d = dict()\n",
    "        d['img'] = div1.a.img['src']\n",
    "        d['rating'] = div2.getText()\n",
    "        d['rating_count'] =  div3.getText().replace('\\n', '').replace('.', '')\n",
    "        d['name'] =  div1.a['title'].strip().lower()\n",
    "        # movies[div1.a['title']] = d\n",
    "        movies.append(d)\n",
    "\n",
    "    return movies\n",
    "\n",
    "get_movies_filmaffinity()\n",
    "# rating = soup.find_all('div', attrs={'class': 'avg-rating'})\n",
    "# for r in rating:\n",
    "#     # for a in div:\n",
    "#     # titles.append(div.a)\n",
    "#     movies[''] = {'rating': (r.getText())}\n",
    "#     # pictures.append(div.getText().split('\\n')[0])\n",
    "# \n",
    "# print(len(titles))"
   ],
   "metadata": {
    "collapsed": false,
    "pycharm": {
     "name": "#%%\n",
     "is_executing": false
    }
   }
  },
  {
   "cell_type": "markdown",
   "source": [
    "### kinepolis\n",
    "\n"
   ],
   "metadata": {
    "collapsed": false
   }
  },
  {
   "cell_type": "code",
   "execution_count": 163,
   "outputs": [
    {
     "data": {
      "text/plain": "[{'name': 'joker', 'score': '8.2'},\n {'name': 'maléfica maestra del mal', 'score': None},\n {'name': 'géminis', 'score': '5.3'},\n {'name': 'zombieland: mata y remata', 'score': None},\n {'name': 'abominable', 'score': '7.7'},\n {'name': 'mientras dure la guerra', 'score': '7.2'},\n {'name': 'día de lluvia en nueva york', 'score': '5.7'},\n {'name': 'el asesino de los caprichos', 'score': None},\n {'name': '@buelos, nunca es tarde para emprender', 'score': '5.9'},\n {'name': 'noche de bodas', 'score': '4.5'},\n {'name': 'padre no hay más que uno', 'score': '6.9'},\n {'name': 'retrato de una mujer en llamas', 'score': None},\n {'name': 'ad astra', 'score': '3.1'},\n {'name': 'rambo: last blood', 'score': '6.1'},\n {'name': 'downton abbey', 'score': '7'},\n {'name': 'don pasquale', 'score': None},\n {'name': 'una vida entre las cuerdas', 'score': None},\n {'name': 'el crack cero', 'score': '6.7'},\n {'name': 'érase una vez en... hollywood', 'score': '5.6'},\n {'name': 'terminator: destino oscuro', 'score': None}]"
     },
     "metadata": {},
     "output_type": "execute_result",
     "execution_count": 163
    }
   ],
   "source": [
    "import re\n",
    "from urllib.parse import urljoin\n",
    "\n",
    "def get_movies_kinepolis():\n",
    "    url2 = 'https://kinepolis.es/cines/kinepolis-madrid-ciudad-de-la-imagen?main-section=presales'\n",
    "\n",
    "    page2 = urlopen(url2)\n",
    "    soup2 = BeautifulSoup(page2, 'html.parser')\n",
    "\n",
    "    # regex = re.compile(r'^movie-container-[0-9]+')\n",
    "    # regex = re.compile(r'^movie')\n",
    "\n",
    "    movies = []\n",
    "    # movie = soup2.find_all('div', attrs={'id': regex})\n",
    "    raw_data = soup2.find_all('div', attrs={'class': 'movie-overview-title'})\n",
    "\n",
    "    for movie in raw_data:\n",
    "        d = dict()\n",
    "        d['name'] = movie.getText().strip().lower()\n",
    "        url_t = urljoin('https://kinepolis.es', movie.a['href']) \n",
    "        # print(url_t)\n",
    "        page_t = urlopen(url_t)\n",
    "        soup_t = BeautifulSoup(page_t, 'html.parser')\n",
    "        score = soup_t.find_all('span', attrs={'class': 'movie-visitor-score-score'})\n",
    "        \n",
    "        try:\n",
    "            if not score[0].is_empty_element:\n",
    "                for s in score:\n",
    "                    # print(s.getText())\n",
    "                    d['score'] = s.getText()\n",
    "                    # print(score[0].getText())\n",
    "        except:\n",
    "            d['score'] = None\n",
    "            \n",
    "        movies.append(d)\n",
    "            \n",
    "            \n",
    "    return movies\n",
    "\n",
    "get_movies_kinepolis()"
   ],
   "metadata": {
    "collapsed": false,
    "pycharm": {
     "name": "#%%\n",
     "is_executing": false
    }
   }
  },
  {
   "cell_type": "code",
   "execution_count": 53,
   "outputs": [
    {
     "name": "stdout",
     "text": [
      "http://www.youtube.com/watch?v=zAGVQLHvwOY\n"
     ],
     "output_type": "stream"
    }
   ],
   "source": [
    "import urllib.request\n",
    "import urllib.parse\n",
    "import re\n",
    "\n",
    "in_search = 'Joker_trailer'\n",
    "query_string = urllib.parse.urlencode({\"search_query\" : in_search})\n",
    "html_content = urllib.request.urlopen(\"http://www.youtube.com/results?\" + query_string)\n",
    "search_results = re.findall(r'href=\\\"\\/watch\\?v=(.{11})', html_content.read().decode())\n",
    "print(\"http://www.youtube.com/watch?v=\" + search_results[0])\n"
   ],
   "metadata": {
    "collapsed": false,
    "pycharm": {
     "name": "#%%\n",
     "is_executing": false
    }
   }
  },
  {
   "cell_type": "code",
   "execution_count": null,
   "outputs": [],
   "source": [
    "movie = 'joker'\n",
    "movie_search = '+'.join(movie.split())\n",
    "\n",
    "base_url = 'http://www.imdb.com/find?q='\n",
    "url = base_url+movie_search+'&s=all'\n",
    "\n"
   ],
   "metadata": {
    "collapsed": false,
    "pycharm": {
     "name": "#%%\n"
    }
   }
  }
 ],
 "metadata": {
  "kernelspec": {
   "display_name": "Python 3",
   "language": "python",
   "name": "python3"
  },
  "language_info": {
   "codemirror_mode": {
    "name": "ipython",
    "version": 2
   },
   "file_extension": ".py",
   "mimetype": "text/x-python",
   "name": "python",
   "nbconvert_exporter": "python",
   "pygments_lexer": "ipython2",
   "version": "2.7.6"
  },
  "pycharm": {
   "stem_cell": {
    "cell_type": "raw",
    "source": [],
    "metadata": {
     "collapsed": false
    }
   }
  }
 },
 "nbformat": 4,
 "nbformat_minor": 0
}