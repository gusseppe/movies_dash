{
 "cells": [
  {
   "cell_type": "markdown",
   "metadata": {
    "pycharm": {
     "is_executing": false,
     "name": "#%% md\n"
    }
   },
   "source": [
    "# Funciones"
   ]
  },
  {
   "cell_type": "markdown",
   "metadata": {
    "pycharm": {
     "is_executing": false,
     "name": "#%% md\n"
    }
   },
   "source": [
    "## Save pictures from url \n"
   ]
  },
  {
   "cell_type": "code",
   "execution_count": 9,
   "outputs": [
    {
     "data": {
      "text/plain": "('/home/guess/PycharmProjects/cines-madrid/pictures/mv_name.jpg',\n <http.client.HTTPMessage at 0x7f8b3f28cbe0>)"
     },
     "metadata": {},
     "output_type": "execute_result",
     "execution_count": 9
    }
   ],
   "source": [
    "import urllib.request\n",
    "import os\n",
    "\n",
    "url = 'http://pics.filmaffinity.com/downton_abbey-696662442-msmall.jpg'\n",
    "name = 'name'\n",
    "path_mv = os.path.join(os.getcwd(), 'pictures', f\"mv_{name}.jpg\")\n",
    "\n",
    "urllib.request.urlretrieve(url, path_mv)"
   ],
   "metadata": {
    "collapsed": false,
    "pycharm": {
     "name": "#%%\n",
     "is_executing": false
    }
   }
  },
  {
   "cell_type": "markdown",
   "metadata": {},
   "source": [
    "## Weather"
   ]
  },
  {
   "cell_type": "code",
   "execution_count": 2,
   "outputs": [],
   "source": [
    "import http.client\n",
    "import config\n",
    "from urllib.request import urlopen\n",
    "\n",
    "def _get_weather_api():\n",
    "    conn = http.client.HTTPSConnection(\"opendata.aemet.es\")\n",
    "\n",
    "    headers = {\n",
    "        'cache-control': \"no-cache\",\n",
    "        }\n",
    "\n",
    "\n",
    "    url = '/opendata/api/prediccion/ccaa/medioplazo/mad'\n",
    "    # url = '/opendata/api/prediccion/ccaa/hoy/mad'\n",
    "    # url = '/opendata/api/prediccion/ccaa/manana/mad'\n",
    "    # url = '/opendata/api/prediccion/provincia/hoy/28'\n",
    "    request_url = f\"{url}?api_key={config.weather_api}\"\n",
    "    conn.request(\"GET\", request_url, headers=headers)\n",
    "\n",
    "    res = conn.getresponse()\n",
    "    data = res.read().decode(\"utf-8\")\n",
    "\n",
    "    url_data = data.split()[9].replace('\\\"', '').replace(',','')\n",
    "    raw_dataset = urlopen(url_data).read().decode('cp1252')#.split(\"\\r\\r\\n\")\n",
    "    raw_dataset = raw_dataset.replace('\\r\\r', '').replace('\\n', '')\n",
    "    clean_dataset = raw_dataset.split('DÍA ')[2:]\n",
    "    clean_dataset = [e.strip() for e in clean_dataset]\n",
    "    \n",
    "    d_dataset = dict((e.split(':')) for e in clean_dataset)\n",
    "    \n",
    "    return d_dataset"
   ],
   "metadata": {
    "collapsed": false,
    "pycharm": {
     "name": "#%%\n",
     "is_executing": false
    }
   }
  },
  {
   "cell_type": "code",
   "execution_count": 3,
   "metadata": {
    "pycharm": {
     "is_executing": false
    }
   },
   "outputs": [
    {
     "data": {
      "text/plain": "{'18 (LUNES)': 'Muy nuboso en la Sierra y en el resto intervalos nubosos.Temperaturas con cambios ligeros. Heladas débiles en zonas altas.Viento flojo del norte.',\n '19 (MARTES)': 'Cubierto con precipitaciones débiles, que serán de nieve apartir de unos 900-1000 metros, subiendo la cota al final.Temperaturas mínimas con cambios ligeros y máximas en descenso.Heladas débiles en el extremo este y en la Sierra. Viento flojovariable.'}"
     },
     "metadata": {},
     "output_type": "execute_result",
     "execution_count": 3
    }
   ],
   "source": [
    "clean_dataset = _get_weather_api()\n",
    "d_dataset = dict((e.split(':')) for e in clean_dataset)\n",
    "d_dataset"
   ]
  },
  {
   "cell_type": "code",
   "execution_count": 18,
   "metadata": {},
   "outputs": [
    {
     "data": {
      "text/plain": [
       "[['18 (LUNES)',\n",
       "  'Muy nuboso en la Sierra y en el resto intervalos nubosos.Temperaturas con cambios ligeros. Heladas débiles en zonas altas.Viento flojo del norte.'],\n",
       " ['19 (MARTES)',\n",
       "  'Cubierto con precipitaciones débiles, que serán de nieve apartir de unos 900-1000 metros, subiendo la cota al final.Temperaturas mínimas con cambios ligeros y máximas en descenso.Heladas débiles en el extremo este y en la Sierra. Viento flojovariable.']]"
      ]
     },
     "execution_count": 18,
     "metadata": {},
     "output_type": "execute_result"
    }
   ],
   "source": [
    "[(e.split(':')) for e in clean_dataset]"
   ]
  },
  {
   "cell_type": "markdown",
   "metadata": {
    "pycharm": {
     "is_executing": false,
     "name": "#%% md\n"
    }
   },
   "source": [
    "## Youtube"
   ]
  },
  {
   "cell_type": "code",
   "execution_count": 27,
   "metadata": {
    "collapsed": false,
    "pycharm": {
     "is_executing": false,
     "name": "#%%\n"
    }
   },
   "outputs": [
    {
     "data": {
      "text/plain": [
       "'http://www.youtube.com/watch?v=EIyZqNbZQI8'"
      ]
     },
     "execution_count": 27,
     "metadata": {},
     "output_type": "execute_result"
    }
   ],
   "source": [
    "import urllib.request\n",
    "import urllib.parse\n",
    "import re\n",
    "\n",
    "def get_youtube(query):\n",
    "    query_string = urllib.parse.urlencode({\"search_query\" : query})\n",
    "    html_content = urllib.request.urlopen(\"http://www.youtube.com/results?\" + query_string)\n",
    "    search_results = re.findall(r'href=\\\"\\/watch\\?v=(.{11})', html_content.read().decode())\n",
    "    result = f'http://www.youtube.com/watch?v={search_results[0]}'\n",
    "    \n",
    "    return result\n",
    "\n",
    "get_youtube('Joker trailer espanol')"
   ]
  },
  {
   "cell_type": "code",
   "execution_count": 2,
   "metadata": {
    "collapsed": false,
    "pycharm": {
     "is_executing": false,
     "name": "#%%\n"
    }
   },
   "outputs": [
    {
     "name": "stdout",
     "output_type": "stream",
     "text": [
      "2\n"
     ]
    }
   ],
   "source": [
    "print(2)"
   ]
  },
  {
   "cell_type": "markdown",
   "metadata": {
    "pycharm": {
     "name": "#%% md\n"
    }
   },
   "source": [
    "## Twitter"
   ]
  },
  {
   "cell_type": "code",
   "execution_count": 1,
   "metadata": {
    "collapsed": false,
    "pycharm": {
     "is_executing": false,
     "name": "#%%\n"
    }
   },
   "outputs": [],
   "source": [
    "from  tools import TwitterClient\n",
    "\n",
    "\n",
    "api = TwitterClient()\n",
    "# calling function to get tweets\n",
    "tweets = api.get_tweets(query = 'Joker ', count = 200)\n",
    "\n",
    "\n",
    "ptweets = [tweet for tweet in tweets if tweet['sentiment'] == 'positive']\n",
    "ntweets = [tweet for tweet in tweets if tweet['sentiment'] == 'negative']"
   ]
  },
  {
   "cell_type": "code",
   "execution_count": 2,
   "metadata": {
    "collapsed": false,
    "pycharm": {
     "is_executing": false,
     "name": "#%%\n"
    }
   },
   "outputs": [
    {
     "data": {
      "text/plain": [
       "[{'name': 'Joker ',\n",
       "  'text_original': 'RT @andres_trasado: \"no joker sabes escribir bien\"\\nLecciones de literatura, Benito Perez Galdós, 1993 https://t.co/nnjAMsOnIP',\n",
       "  'text_cleaned': 'RT trasado no joker sabes escribir bien Lecciones de literatura Benito Perez Gald s 1993',\n",
       "  'sentiment': 'neutral'},\n",
       " {'name': 'Joker ',\n",
       "  'text_original': '#Tecnología - Joker es la película basada en cómics más rentable de la historia #Noticias https://t.co/R0zlNL7Z9d https://t.co/rVdgkbqXf2',\n",
       "  'text_cleaned': 'Tecnolog a Joker es la pel cula basada en c mics m s rentable de la historia Noticias',\n",
       "  'sentiment': 'neutral'},\n",
       " {'name': 'Joker ',\n",
       "  'text_original': 'RT @Espacio_DC: Joker ya la película basada en cómics más rentable de la historia https://t.co/yZbcZOQHXK',\n",
       "  'text_cleaned': 'RT DC Joker ya la pel cula basada en c mics m s rentable de la historia',\n",
       "  'sentiment': 'neutral'}]"
      ]
     },
     "execution_count": 2,
     "metadata": {},
     "output_type": "execute_result"
    }
   ],
   "source": [
    "tweets[:3]"
   ]
  },
  {
   "cell_type": "code",
   "execution_count": 18,
   "metadata": {
    "collapsed": false,
    "pycharm": {
     "is_executing": false,
     "name": "#%%\n"
    }
   },
   "outputs": [
    {
     "data": {
      "text/plain": [
       "0.75"
      ]
     },
     "execution_count": 18,
     "metadata": {},
     "output_type": "execute_result"
    }
   ],
   "source": [
    "\n",
    "p_score = len(ptweets)/(len(ptweets) + len(ntweets)) \n",
    "n_score = len(ntweets)/(len(ptweets) + len(ntweets)) \n",
    "\n",
    "p_score"
   ]
  },
  {
   "cell_type": "code",
   "execution_count": 2,
   "metadata": {
    "collapsed": false,
    "pycharm": {
     "is_executing": false,
     "name": "#%%\n"
    }
   },
   "outputs": [
    {
     "data": {
      "text/plain": [
       "57"
      ]
     },
     "execution_count": 2,
     "metadata": {},
     "output_type": "execute_result"
    }
   ],
   "source": [
    "len(tweets)"
   ]
  },
  {
   "cell_type": "code",
   "execution_count": 6,
   "metadata": {
    "collapsed": false,
    "pycharm": {
     "is_executing": false,
     "name": "#%%\n"
    }
   },
   "outputs": [
    {
     "data": {
      "text/plain": [
       "['RT Gente que CANCELA en twitter WHO CANCELS THE CANCELLERS os dais cuenta de que no tiene nada de progresista ni de positivo',\n",
       " 'RT FantasyPlanet Batman Batmobile Joker LEGO Batman Batmobile La Persecuci n del Joker',\n",
       " 'RT Joker sigue primera en la taquilla de Argentina impresionante JokerMovie',\n",
       " 'RT Si te quedaste con ganas de ver m s material del Joker de Heath Ledger te dejamos una toma in dita que fue eliminada de l',\n",
       " 'RT Todav a me sigo riendo de la gente que se quej de la violencia en el joker jajakajajajaj lo nico q vieron en toda su',\n",
       " 'Full Roma Joker hijos de puta',\n",
       " 'RT Si os ha flipado la transformaci n del Joker en dos horas de peli lo de Rosa D ez desde 1993 hasta el d a de hoy da para',\n",
       " 'Qu pas con Sophie en Joker',\n",
       " 'Como cien semanas despu s del estreno vengo a decirles que vayan a ver al Joker',\n",
       " 'RT Al Joker lo metieron en Arkham por mucho menos']"
      ]
     },
     "execution_count": 6,
     "metadata": {},
     "output_type": "execute_result"
    }
   ],
   "source": [
    "test_wordcloud = [d['text_cleaned'] for d in tweets]\n",
    "test_wordcloud[:10]\n",
    "#%.imshow(wordcloud, interpolation=\"bilinear\");\n"
   ]
  },
  {
   "cell_type": "code",
   "execution_count": 16,
   "metadata": {
    "collapsed": false,
    "pycharm": {
     "is_executing": false,
     "name": "#%%\n"
    }
   },
   "outputs": [
    {
     "data": {
      "text/plain": [
       "['rt gente que cancela en twitter who cancels the cancellers os dais cuenta de que no tiene nada de progresista ni de positivo',\n",
       " 'rt fantasyplanet batman batmobile joker lego batman batmobile la persecuci n del joker',\n",
       " 'rt joker sigue primera en la taquilla de argentina impresionante jokermovie',\n",
       " 'rt si te quedaste con ganas de ver m s material del joker de heath ledger te dejamos una toma in dita que fue eliminada de l',\n",
       " 'rt todav a me sigo riendo de la gente que se quej de la violencia en el joker jajakajajajaj lo nico q vieron en toda su']"
      ]
     },
     "execution_count": 16,
     "metadata": {},
     "output_type": "execute_result"
    }
   ],
   "source": [
    "\n",
    "from tools import get_wordcloud\n",
    "\n",
    "get_wordcloud(test_wordcloud, word_to_remove='joker')"
   ]
  },
  {
   "cell_type": "markdown",
   "metadata": {
    "pycharm": {
     "name": "#%% md\n"
    }
   },
   "source": [
    "## Tiempo\n"
   ]
  },
  {
   "cell_type": "code",
   "execution_count": 35,
   "metadata": {
    "collapsed": false,
    "pycharm": {
     "is_executing": false,
     "name": "#%%\n"
    }
   },
   "outputs": [
    {
     "data": {
      "text/plain": [
       "[{'day': 'Por la noche',\n",
       "  'date': '8 NOV.',\n",
       "  'desc': 'Mayormente despejado',\n",
       "  'temp': '--3°',\n",
       "  'precip': '10%',\n",
       "  'wind': 'O 24 km/h ',\n",
       "  'humidity': '63%'},\n",
       " {'day': 'Sáb.',\n",
       "  'date': '9 NOV.',\n",
       "  'desc': 'Muy nublado',\n",
       "  'temp': '12°5°',\n",
       "  'precip': '20%',\n",
       "  'wind': 'OSO 22 km/h ',\n",
       "  'humidity': '66%'},\n",
       " {'day': 'Dom.',\n",
       "  'date': '10 NOV.',\n",
       "  'desc': 'Mayormente soleado',\n",
       "  'temp': '11°3°',\n",
       "  'precip': '20%',\n",
       "  'wind': 'NO 31 km/h ',\n",
       "  'humidity': '57%'}]"
      ]
     },
     "execution_count": 35,
     "metadata": {},
     "output_type": "execute_result"
    }
   ],
   "source": [
    "import requests\n",
    "from bs4 import BeautifulSoup\n",
    "from urllib.request import urlopen # sirve\n",
    "\n",
    "\n",
    "def get_time():\n",
    "    url = 'https://weather.com/es-ES/tiempo/10dias/l/c2825b2b1eab60a3eb6bad36bd2facdb4a886cfc284c90755c59ebd1b34781d1'\n",
    "    page = requests.get(url)\n",
    "\n",
    "    # page = urlopen(url) # descarga la pagina de filmaffinity\n",
    "    soup=BeautifulSoup(page.content,\"html.parser\")\n",
    "    # soup=BeautifulSoup(page,\"html.parser\")\n",
    "\n",
    "    all=soup.find(\"div\",{\"class\":\"locations-title ten-day-page-title\"}).find(\"h1\").text\n",
    "    table=soup.find_all(\"table\",{\"class\":\"twc-table\"})\n",
    "    days=[]\n",
    "    for items in table:\n",
    "     for i in range(len(items.find_all(\"tr\"))-1):\n",
    "      d = {}  \n",
    "      d[\"day\"]=items.find_all(\"span\",{\"class\":\"date-time\"})[i].text\n",
    "      d[\"date\"]=items.find_all(\"span\",{\"class\":\"day-detail\"})[i].text\n",
    "      d[\"desc\"]=items.find_all(\"td\",{\"class\":\"description\"})[i].text \n",
    "      d[\"temp\"]=items.find_all(\"td\",{\"class\":\"temp\"})[i].text \n",
    "      d[\"precip\"]=items.find_all(\"td\",{\"class\":\"precip\"})[i].text\n",
    "      d[\"wind\"]=items.find_all(\"td\",{\"class\":\"wind\"})[i].text  \n",
    "      d[\"humidity\"]=items.find_all(\"td\",{\"class\":\"humidity\"})[i].text \n",
    "      days.append(d)\n",
    "         \n",
    "    return days\n",
    "\n",
    "time_result = get_time()[:3]\n",
    "time_result"
   ]
  },
  {
   "cell_type": "code",
   "execution_count": null,
   "metadata": {
    "collapsed": false,
    "pycharm": {
     "name": "#%%\n"
    }
   },
   "outputs": [],
   "source": [
    "movie = 'joker'\n",
    "movie_search = '+'.join(movie.split())\n",
    "\n",
    "base_url = 'http://www.imdb.com/find?q='\n",
    "url = base_url+movie_search+'&s=all'\n"
   ]
  },
  {
   "cell_type": "markdown",
   "metadata": {
    "pycharm": {
     "name": "#%% md\n"
    }
   },
   "source": [
    "## Mongodb\n",
    "\n",
    "Install mongo\n",
    "\n",
    "sudo apt update\n",
    "sudo apt install -y mongodb\n",
    "\n",
    "https://www.digitalocean.com/community/tutorials/how-to-install-mongodb-on-ubuntu-18-04"
   ]
  },
  {
   "cell_type": "code",
   "execution_count": 102,
   "metadata": {
    "collapsed": false,
    "pycharm": {
     "is_executing": false,
     "name": "#%%\n"
    }
   },
   "outputs": [
    {
     "data": {
      "text/plain": "[]"
     },
     "metadata": {},
     "output_type": "execute_result",
     "execution_count": 102
    }
   ],
   "source": [
    "from pymongo import MongoClient\n",
    "client = MongoClient('localhost', 27017)\n",
    "db = client.test_database\n",
    "\n",
    "db.list_collection_names()"
   ]
  },
  {
   "cell_type": "code",
   "execution_count": 98,
   "outputs": [],
   "source": [
    "def drop_mongo():\n",
    "    collections = db.list_collection_names() \n",
    "    for c in collections:\n",
    "        db[c].drop()\n",
    "    \n",
    "drop_mongo()"
   ],
   "metadata": {
    "collapsed": false,
    "pycharm": {
     "name": "#%%\n",
     "is_executing": false
    }
   }
  },
  {
   "cell_type": "code",
   "execution_count": 99,
   "outputs": [
    {
     "name": "stdout",
     "text": [
      "local/twitter_lo que arde.json\nlocal/twitter_parásitos.json\nlocal/twitter_érase una vez en... hollywood.json\nlocal/twitter_sorry we missed you.json\nlocal/wordcloud_lo que arde.json\nlocal/filmaffinity.json\nlocal/wordcloud_retrato de una mujer en llamas.json\nlocal/twitter_joker.json\nlocal/weather.json\nlocal/twitter_el irlandés.json\nlocal/wordcloud_klaus.json\nlocal/twitter_klaus.json\nlocal/wordcloud_sorry we missed you.json\nlocal/wordcloud_la trinchera infinita.json\nlocal/wordcloud_le mans '66.json\nlocal/twitter_retrato de una mujer en llamas.json\nlocal/weather_api.json\nlocal/twitter_la trinchera infinita.json\nlocal/wordcloud_parásitos.json\nlocal/twitter_le mans '66.json\nlocal/wordcloud_joker.json\nlocal/wordcloud_el irlandés.json\nlocal/wordcloud_érase una vez en... hollywood.json\nlocal/youtube.json\n"
     ],
     "output_type": "stream"
    }
   ],
   "source": [
    "\n",
    "import glob\n",
    "import os\n",
    "\n",
    "def remove_local_files():\n",
    "    path = f\"{os.path.join('local', '*.json')}\" # Aqui se guardaran los datos de cada pelicula\n",
    "    for fl in glob.glob(path):\n",
    "        #Do what you want with the file\n",
    "        print(f'Removing file: {fl}')\n",
    "        os.remove(fl)"
   ],
   "metadata": {
    "collapsed": false,
    "pycharm": {
     "name": "#%%\n",
     "is_executing": false
    }
   }
  },
  {
   "cell_type": "code",
   "execution_count": 96,
   "metadata": {
    "collapsed": false,
    "pycharm": {
     "is_executing": false,
     "name": "#%%\n"
    }
   },
   "outputs": [
    {
     "traceback": [
      "\u001b[0;31m---------------------------------------------------------------------------\u001b[0m",
      "\u001b[0;31mValueError\u001b[0m                                Traceback (most recent call last)",
      "\u001b[0;32m<ipython-input-96-7fa6c3e30490>\u001b[0m in \u001b[0;36m<module>\u001b[0;34m\u001b[0m\n\u001b[1;32m      2\u001b[0m \u001b[0mmovie_collections\u001b[0m \u001b[0;34m=\u001b[0m \u001b[0mlist\u001b[0m\u001b[0;34m(\u001b[0m\u001b[0mdb\u001b[0m\u001b[0;34m[\u001b[0m\u001b[0;34m'filmaffinity'\u001b[0m\u001b[0;34m]\u001b[0m\u001b[0;34m.\u001b[0m\u001b[0mfind\u001b[0m\u001b[0;34m(\u001b[0m\u001b[0;34m{\u001b[0m\u001b[0;34m}\u001b[0m\u001b[0;34m)\u001b[0m\u001b[0;34m.\u001b[0m\u001b[0mlimit\u001b[0m\u001b[0;34m(\u001b[0m\u001b[0;36m30\u001b[0m\u001b[0;34m)\u001b[0m\u001b[0;34m)\u001b[0m \u001b[0;31m# Son como las tablas.\u001b[0m\u001b[0;34m\u001b[0m\u001b[0;34m\u001b[0m\u001b[0m\n\u001b[1;32m      3\u001b[0m \u001b[0;31m# movie_collections\u001b[0m\u001b[0;34m\u001b[0m\u001b[0;34m\u001b[0m\u001b[0;34m\u001b[0m\u001b[0m\n\u001b[0;32m----> 4\u001b[0;31m \u001b[0mrandom\u001b[0m\u001b[0;34m.\u001b[0m\u001b[0msample\u001b[0m\u001b[0;34m(\u001b[0m\u001b[0mmovie_collections\u001b[0m\u001b[0;34m,\u001b[0m \u001b[0;36m3\u001b[0m\u001b[0;34m)\u001b[0m\u001b[0;34m\u001b[0m\u001b[0;34m\u001b[0m\u001b[0m\n\u001b[0m\u001b[1;32m      5\u001b[0m \u001b[0;34m\u001b[0m\u001b[0m\n",
      "\u001b[0;32m~/PycharmProjects/cines-madrid/venv/lib/python3.7/random.py\u001b[0m in \u001b[0;36msample\u001b[0;34m(self, population, k)\u001b[0m\n\u001b[1;32m    319\u001b[0m         \u001b[0mn\u001b[0m \u001b[0;34m=\u001b[0m \u001b[0mlen\u001b[0m\u001b[0;34m(\u001b[0m\u001b[0mpopulation\u001b[0m\u001b[0;34m)\u001b[0m\u001b[0;34m\u001b[0m\u001b[0;34m\u001b[0m\u001b[0m\n\u001b[1;32m    320\u001b[0m         \u001b[0;32mif\u001b[0m \u001b[0;32mnot\u001b[0m \u001b[0;36m0\u001b[0m \u001b[0;34m<=\u001b[0m \u001b[0mk\u001b[0m \u001b[0;34m<=\u001b[0m \u001b[0mn\u001b[0m\u001b[0;34m:\u001b[0m\u001b[0;34m\u001b[0m\u001b[0;34m\u001b[0m\u001b[0m\n\u001b[0;32m--> 321\u001b[0;31m             \u001b[0;32mraise\u001b[0m \u001b[0mValueError\u001b[0m\u001b[0;34m(\u001b[0m\u001b[0;34m\"Sample larger than population or is negative\"\u001b[0m\u001b[0;34m)\u001b[0m\u001b[0;34m\u001b[0m\u001b[0;34m\u001b[0m\u001b[0m\n\u001b[0m\u001b[1;32m    322\u001b[0m         \u001b[0mresult\u001b[0m \u001b[0;34m=\u001b[0m \u001b[0;34m[\u001b[0m\u001b[0;32mNone\u001b[0m\u001b[0;34m]\u001b[0m \u001b[0;34m*\u001b[0m \u001b[0mk\u001b[0m\u001b[0;34m\u001b[0m\u001b[0;34m\u001b[0m\u001b[0m\n\u001b[1;32m    323\u001b[0m         \u001b[0msetsize\u001b[0m \u001b[0;34m=\u001b[0m \u001b[0;36m21\u001b[0m        \u001b[0;31m# size of a small set minus size of an empty list\u001b[0m\u001b[0;34m\u001b[0m\u001b[0;34m\u001b[0m\u001b[0m\n",
      "\u001b[0;31mValueError\u001b[0m: Sample larger than population or is negative"
     ],
     "ename": "ValueError",
     "evalue": "Sample larger than population or is negative",
     "output_type": "error"
    }
   ],
   "source": [
    "import random\n",
    "movie_collections = list(db['filmaffinity'].find({}).limit(30)) # Son como las tablas.\n",
    "# movie_collections\n",
    "random.sample(movie_collections, 3)"
   ]
  },
  {
   "cell_type": "code",
   "execution_count": 92,
   "outputs": [
    {
     "data": {
      "text/plain": "[{'_id': ObjectId('5dd02f0becb86d9f9bf2ac74'),\n  'name': \"le mans '66\",\n  'path': \"assets/images/wc_le mans '66.png\"}]"
     },
     "metadata": {},
     "output_type": "execute_result",
     "execution_count": 92
    }
   ],
   "source": [
    "list(db['wordcloud'].find({'name':\"le mans '66\"}))\n",
    "# ss = TextBlob('everything is good')\n",
    "# ss.sentiment.polarity\n",
    "# db.filmaffinity.insert_many(data)\n",
    "# db.time.insert_many(time_result)\n",
    "# import model\n",
    "# model.get_wordcloud('madre')"
   ],
   "metadata": {
    "collapsed": false,
    "pycharm": {
     "name": "#%%    \n",
     "is_executing": false
    }
   }
  },
  {
   "cell_type": "code",
   "execution_count": 93,
   "metadata": {
    "collapsed": false,
    "pycharm": {
     "is_executing": false,
     "name": "#%%\n"
    }
   },
   "outputs": [],
   "source": [
    "db['filmaffinity'].drop()"
   ]
  },
  {
   "cell_type": "code",
   "execution_count": 12,
   "metadata": {
    "collapsed": false,
    "pycharm": {
     "is_executing": false,
     "name": "#%%\n"
    }
   },
   "outputs": [
    {
     "data": {
      "text/plain": [
       "[{'_id': ObjectId('5dc6b17456d085bbf1abedee'),\n",
       "  'img': 'http://pics.filmaffinity.com/joker-790658206-msmall.jpg',\n",
       "  'rating': '8,3',\n",
       "  'rating_count': '34924',\n",
       "  'name': 'joker'},\n",
       " {'_id': ObjectId('5dc6b17456d085bbf1abedef'),\n",
       "  'img': 'http://pics.filmaffinity.com/gisaengchung_parasite-379211692-msmall.jpg',\n",
       "  'rating': '8,1',\n",
       "  'rating_count': '7521',\n",
       "  'name': 'parásitos'},\n",
       " {'_id': ObjectId('5dc6b17456d085bbf1abedf0'),\n",
       "  'img': 'http://pics.filmaffinity.com/portrait_de_la_jeune_fille_en_feu-111604730-msmall.jpg',\n",
       "  'rating': '7,7',\n",
       "  'rating_count': '1203',\n",
       "  'name': 'retrato de una mujer en llamas'},\n",
       " {'_id': ObjectId('5dc6b17456d085bbf1abedf1'),\n",
       "  'img': 'http://pics.filmaffinity.com/la_trinchera_infinita-137598579-msmall.jpg',\n",
       "  'rating': '7,7',\n",
       "  'rating_count': '1258',\n",
       "  'name': 'la trinchera infinita'},\n",
       " {'_id': ObjectId('5dc6b17456d085bbf1abedf2'),\n",
       "  'img': 'http://pics.filmaffinity.com/o_que_arde-658148396-msmall.jpg',\n",
       "  'rating': '7,4',\n",
       "  'rating_count': '1657',\n",
       "  'name': 'lo que arde'},\n",
       " {'_id': ObjectId('5dc6b17456d085bbf1abedf3'),\n",
       "  'img': 'http://pics.filmaffinity.com/el_hoyo_the_platform-987825598-msmall.jpg',\n",
       "  'rating': '7,4',\n",
       "  'rating_count': '384',\n",
       "  'name': 'el hoyo'},\n",
       " {'_id': ObjectId('5dc6b17456d085bbf1abedf4'),\n",
       "  'img': 'http://pics.filmaffinity.com/once_upon_a_time_in_hollywood-987163522-msmall.jpg',\n",
       "  'rating': '7,2',\n",
       "  'rating_count': '25748',\n",
       "  'name': 'érase una vez en... hollywood'},\n",
       " {'_id': ObjectId('5dc6b17456d085bbf1abedf5'),\n",
       "  'img': 'http://pics.filmaffinity.com/amazing_grace-815000524-msmall.jpg',\n",
       "  'rating': '7,1',\n",
       "  'rating_count': '336',\n",
       "  'name': 'amazing grace'},\n",
       " {'_id': ObjectId('5dc6b17456d085bbf1abedf6'),\n",
       "  'img': 'http://pics.filmaffinity.com/sorry_we_missed_you-101564686-msmall.jpg',\n",
       "  'rating': '7,1',\n",
       "  'rating_count': '380',\n",
       "  'name': 'sorry we missed you'},\n",
       " {'_id': ObjectId('5dc6b17456d085bbf1abedf7'),\n",
       "  'img': 'http://pics.filmaffinity.com/the_farewell-358889653-msmall.jpg',\n",
       "  'rating': '7,1',\n",
       "  'rating_count': '317',\n",
       "  'name': 'the farewell'},\n",
       " {'_id': ObjectId('5dc6b17456d085bbf1abedf8'),\n",
       "  'img': 'http://pics.filmaffinity.com/fourteen-426567593-msmall.jpg',\n",
       "  'rating': '7,0',\n",
       "  'rating_count': '56',\n",
       "  'name': 'fourteen'},\n",
       " {'_id': ObjectId('5dc6b17456d085bbf1abedf9'),\n",
       "  'img': 'http://pics.filmaffinity.com/mientras_dure_la_guerra-347846340-msmall.jpg',\n",
       "  'rating': '7,0',\n",
       "  'rating_count': '8710',\n",
       "  'name': 'mientras dure la guerra'},\n",
       " {'_id': ObjectId('5dc6b17456d085bbf1abedfa'),\n",
       "  'img': 'http://pics.filmaffinity.com/el_crack_cero-362210767-msmall.jpg',\n",
       "  'rating': '6,9',\n",
       "  'rating_count': '738',\n",
       "  'name': 'el crack cero'},\n",
       " {'_id': ObjectId('5dc6b17456d085bbf1abedfb'),\n",
       "  'img': 'http://pics.filmaffinity.com/downton_abbey-696662442-msmall.jpg',\n",
       "  'rating': '6,8',\n",
       "  'rating_count': '1192',\n",
       "  'name': 'downton abbey'},\n",
       " {'_id': ObjectId('5dc6b17456d085bbf1abedfc'),\n",
       "  'img': 'http://pics.filmaffinity.com/official_secrets-970140286-msmall.jpg',\n",
       "  'rating': '6,8',\n",
       "  'rating_count': '490',\n",
       "  'name': 'secretos de estado'},\n",
       " {'_id': ObjectId('5dc6b17456d085bbf1abedfd'),\n",
       "  'img': 'http://pics.filmaffinity.com/a_shaun_the_sheep_movie_farmageddon-404553993-msmall.jpg',\n",
       "  'rating': '6,7',\n",
       "  'rating_count': '125',\n",
       "  'name': 'la oveja shaun. la película: granjaguedón'},\n",
       " {'_id': ObjectId('5dc6b17456d085bbf1abedfe'),\n",
       "  'img': 'http://pics.filmaffinity.com/ventajas_de_viajar_en_tren-104710529-msmall.jpg',\n",
       "  'rating': '6,7',\n",
       "  'rating_count': '279',\n",
       "  'name': 'ventajas de viajar en tren'},\n",
       " {'_id': ObjectId('5dc6b17456d085bbf1abedff'),\n",
       "  'img': 'http://pics.filmaffinity.com/a_rainy_day_in_new_york-323481157-msmall.jpg',\n",
       "  'rating': '6,7',\n",
       "  'rating_count': '3470',\n",
       "  'name': 'día de lluvia en nueva york'},\n",
       " {'_id': ObjectId('5dc6b17456d085bbf1abee00'),\n",
       "  'img': 'http://pics.filmaffinity.com/the_lion_king-356972018-msmall.jpg',\n",
       "  'rating': '6,6',\n",
       "  'rating_count': '11594',\n",
       "  'name': 'el rey león'},\n",
       " {'_id': ObjectId('5dc6b17456d085bbf1abee01'),\n",
       "  'img': 'http://pics.filmaffinity.com/doctor_sleep-321490308-msmall.jpg',\n",
       "  'rating': '6,6',\n",
       "  'rating_count': '1772',\n",
       "  'name': 'doctor sueño'},\n",
       " {'_id': ObjectId('5dc6b17456d085bbf1abee02'),\n",
       "  'img': 'http://pics.filmaffinity.com/nous_finirons_ensemble-315218651-msmall.jpg',\n",
       "  'rating': '6,5',\n",
       "  'rating_count': '98',\n",
       "  'name': 'pequeñas mentiras para estar juntos'},\n",
       " {'_id': ObjectId('5dc6b17456d085bbf1abee03'),\n",
       "  'img': 'http://pics.filmaffinity.com/the_juniper_tree-967172358-msmall.jpg',\n",
       "  'rating': '6,5',\n",
       "  'rating_count': '66',\n",
       "  'name': 'cuando fuimos brujas'},\n",
       " {'_id': ObjectId('5dc6b17456d085bbf1abee04'),\n",
       "  'img': 'http://pics.filmaffinity.com/a_dog_called_money-184488379-msmall.jpg',\n",
       "  'rating': '6,5',\n",
       "  'rating_count': '42',\n",
       "  'name': 'pj harvey: a dog called money'},\n",
       " {'_id': ObjectId('5dc6b17456d085bbf1abee05'),\n",
       "  'img': 'http://pics.filmaffinity.com/de_dirigent-279731374-msmall.jpg',\n",
       "  'rating': '6,5',\n",
       "  'rating_count': '104',\n",
       "  'name': 'la directora de orquesta'},\n",
       " {'_id': ObjectId('5dc6b17456d085bbf1abee06'),\n",
       "  'img': 'http://pics.filmaffinity.com/deux_moi-892781496-msmall.jpg',\n",
       "  'rating': '6,5',\n",
       "  'rating_count': '142',\n",
       "  'name': 'tan cerca, tan lejos'},\n",
       " {'_id': ObjectId('5dc6b17456d085bbf1abee07'),\n",
       "  'img': 'http://pics.filmaffinity.com/amundsen-418512161-mmed.jpg',\n",
       "  'rating': '6,3',\n",
       "  'rating_count': '46',\n",
       "  'name': 'amundsen'},\n",
       " {'_id': ObjectId('5dc6b17456d085bbf1abee08'),\n",
       "  'img': 'http://pics.filmaffinity.com/abominable-320900881-mmed.jpg',\n",
       "  'rating': '6,3',\n",
       "  'rating_count': '604',\n",
       "  'name': 'abominable'},\n",
       " {'_id': ObjectId('5dc6b17456d085bbf1abee09'),\n",
       "  'img': 'http://pics.filmaffinity.com/five_feet_apart-293759292-msmall.jpg',\n",
       "  'rating': '6,3',\n",
       "  'rating_count': '927',\n",
       "  'name': 'a dos metros de ti'},\n",
       " {'_id': ObjectId('5dc6b17456d085bbf1abee0a'),\n",
       "  'img': 'http://pics.filmaffinity.com/las_ninas_bien-405773893-msmall.jpg',\n",
       "  'rating': '6,3',\n",
       "  'rating_count': '171',\n",
       "  'name': 'las niñas bien'},\n",
       " {'_id': ObjectId('5dc6b17456d085bbf1abee0b'),\n",
       "  'img': 'http://pics.filmaffinity.com/rambo_last_blood-756933079-msmall.jpg',\n",
       "  'rating': '6,3',\n",
       "  'rating_count': '1485',\n",
       "  'name': 'rambo: last blood'},\n",
       " {'_id': ObjectId('5dc6b17456d085bbf1abee0c'),\n",
       "  'img': 'http://pics.filmaffinity.com/ready_or_not-848623092-msmall.jpg',\n",
       "  'rating': '6,2',\n",
       "  'rating_count': '1227',\n",
       "  'name': 'noche de bodas'},\n",
       " {'_id': ObjectId('5dc6b17456d085bbf1abee0d'),\n",
       "  'img': 'http://pics.filmaffinity.com/el_viaje_de_marta_staff_only-876442259-msmall.jpg',\n",
       "  'rating': '6,2',\n",
       "  'rating_count': '153',\n",
       "  'name': 'el viaje de marta (staff only)'},\n",
       " {'_id': ObjectId('5dc6b17456d085bbf1abee0e'),\n",
       "  'img': 'http://pics.filmaffinity.com/zombieland_double_tap-674365283-msmall.jpg',\n",
       "  'rating': '6,1',\n",
       "  'rating_count': '2208',\n",
       "  'name': 'zombieland: mata y remata'},\n",
       " {'_id': ObjectId('5dc6b17456d085bbf1abee0f'),\n",
       "  'img': 'http://pics.filmaffinity.com/buelos_nunca_es_tarde_para_emprender-642510185-msmall.jpg',\n",
       "  'rating': '6,1',\n",
       "  'rating_count': '209',\n",
       "  'name': '@buelos'},\n",
       " {'_id': ObjectId('5dc6b17456d085bbf1abee10'),\n",
       "  'img': 'http://pics.filmaffinity.com/ad_astra-649245505-msmall.jpg',\n",
       "  'rating': '6,1',\n",
       "  'rating_count': '9168',\n",
       "  'name': 'ad astra'},\n",
       " {'_id': ObjectId('5dc6b17456d085bbf1abee11'),\n",
       "  'img': 'http://pics.filmaffinity.com/adults_in_the_room-152448709-msmall.jpg',\n",
       "  'rating': '6,0',\n",
       "  'rating_count': '196',\n",
       "  'name': 'adults in the room (comportarse como adultos)'},\n",
       " {'_id': ObjectId('5dc6b17456d085bbf1abee12'),\n",
       "  'img': 'http://pics.filmaffinity.com/it_chapter_two-844935737-msmall.jpg',\n",
       "  'rating': '6,0',\n",
       "  'rating_count': '8184',\n",
       "  'name': 'it. capítulo 2'},\n",
       " {'_id': ObjectId('5dc6b17456d085bbf1abee13'),\n",
       "  'img': 'http://pics.filmaffinity.com/hustlers-659865622-msmall.jpg',\n",
       "  'rating': '5,9',\n",
       "  'rating_count': '227',\n",
       "  'name': 'estafadoras de wall street'},\n",
       " {'_id': ObjectId('5dc6b17456d085bbf1abee14'),\n",
       "  'img': 'http://pics.filmaffinity.com/padre_no_hay_mas_que_uno-911130707-msmall.jpg',\n",
       "  'rating': '5,9',\n",
       "  'rating_count': '1527',\n",
       "  'name': 'padre no hay más que uno'},\n",
       " {'_id': ObjectId('5dc6b17456d085bbf1abee15'),\n",
       "  'img': 'http://pics.filmaffinity.com/maleficent_mistress_of_evil-378677710-msmall.jpg',\n",
       "  'rating': '5,7',\n",
       "  'rating_count': '1741',\n",
       "  'name': 'maléfica: maestra del mal'}]"
      ]
     },
     "execution_count": 12,
     "metadata": {},
     "output_type": "execute_result"
    }
   ],
   "source": [
    "test = list(db['filmaffinity'].find({}).limit(100))\n",
    "test"
   ]
  },
  {
   "cell_type": "code",
   "execution_count": 53,
   "metadata": {
    "collapsed": false,
    "pycharm": {
     "is_executing": false,
     "name": "#%%\n"
    }
   },
   "outputs": [
    {
     "data": {
      "text/plain": [
       "[{'_id': ObjectId('5dc58a75df7a80c34030b2de'),\n",
       "  'day': 'Dom.',\n",
       "  'date': '10 NOV.',\n",
       "  'desc': 'Mayormente soleado',\n",
       "  'temp': '11°3°',\n",
       "  'precip': '20%',\n",
       "  'wind': 'NO 31 km/h ',\n",
       "  'humidity': '57%'},\n",
       " {'_id': ObjectId('5dc58a75df7a80c34030b2dd'),\n",
       "  'day': 'Sáb.',\n",
       "  'date': '9 NOV.',\n",
       "  'desc': 'Muy nublado',\n",
       "  'temp': '12°5°',\n",
       "  'precip': '20%',\n",
       "  'wind': 'OSO 22 km/h ',\n",
       "  'humidity': '66%'},\n",
       " {'_id': ObjectId('5dc58a75df7a80c34030b2dc'),\n",
       "  'day': 'Por la noche',\n",
       "  'date': '8 NOV.',\n",
       "  'desc': 'Mayormente despejado',\n",
       "  'temp': '--3°',\n",
       "  'precip': '10%',\n",
       "  'wind': 'O 24 km/h ',\n",
       "  'humidity': '63%'}]"
      ]
     },
     "execution_count": 53,
     "metadata": {},
     "output_type": "execute_result"
    }
   ],
   "source": [
    "list(db['time'].find().sort('_id', -1).limit(10))"
   ]
  },
  {
   "cell_type": "code",
   "execution_count": 44,
   "metadata": {
    "collapsed": false,
    "pycharm": {
     "is_executing": false,
     "name": "#%%\n"
    }
   },
   "outputs": [
    {
     "name": "stderr",
     "output_type": "stream",
     "text": [
      "/home/guess/PycharmProjects/cines-madrid/venv/lib/python3.7/site-packages/ipykernel_launcher.py:1: DeprecationWarning: count is deprecated. Use estimated_document_count or count_documents instead. Please note that $where must be replaced by $expr, $near must be replaced by $geoWithin with $center, and $nearSphere must be replaced by $geoWithin with $centerSphere\n",
      "  \"\"\"Entry point for launching an IPython kernel.\n"
     ]
    },
    {
     "data": {
      "text/plain": [
       "3"
      ]
     },
     "execution_count": 44,
     "metadata": {},
     "output_type": "execute_result"
    }
   ],
   "source": []
  },
  {
   "cell_type": "code",
   "execution_count": 11,
   "metadata": {
    "collapsed": false,
    "pycharm": {
     "is_executing": false,
     "name": "#%%\n"
    }
   },
   "outputs": [
    {
     "name": "stdout",
     "output_type": "stream",
     "text": [
      "The autoreload extension is already loaded. To reload it, use:\n",
      "  %reload_ext autoreload\n"
     ]
    }
   ],
   "source": [
    "%load_ext autoreload\n",
    "%autoreload 2"
   ]
  },
  {
   "cell_type": "code",
   "execution_count": 56,
   "metadata": {
    "collapsed": false,
    "pycharm": {
     "is_executing": false,
     "name": "#%%\n"
    }
   },
   "outputs": [
    {
     "name": "stdout",
     "output_type": "stream",
     "text": [
      "(1, 2, 3)\n"
     ]
    }
   ],
   "source": [
    "def tt(*n_clicks):\n",
    "    print(n_clicks)\n",
    "    \n",
    "tt(1, 2, 3)"
   ]
  },
  {
   "cell_type": "code",
   "execution_count": 4,
   "metadata": {
    "collapsed": false,
    "pycharm": {
     "is_executing": false,
     "name": "#%%\n"
    }
   },
   "outputs": [
    {
     "name": "stdout",
     "output_type": "stream",
     "text": [
      "Data already exists in MongoDB\n"
     ]
    },
    {
     "data": {
      "text/plain": [
       "[{'_id': ObjectId('5dc693f72b9a718d6857b0b2'),\n",
       "  'day': 'Sáb.',\n",
       "  'date': '23 NOV.',\n",
       "  'desc': 'Chubascos matinales',\n",
       "  'temp': '11°5°',\n",
       "  'precip': '40%',\n",
       "  'wind': 'OSO 20 km/h ',\n",
       "  'humidity': '81%'},\n",
       " {'_id': ObjectId('5dc693f72b9a718d6857b0b1'),\n",
       "  'day': 'Vie.',\n",
       "  'date': '22 NOV.',\n",
       "  'desc': 'Chubascos',\n",
       "  'temp': '10°5°',\n",
       "  'precip': '40%',\n",
       "  'wind': 'OSO 18 km/h ',\n",
       "  'humidity': '80%'},\n",
       " {'_id': ObjectId('5dc693f72b9a718d6857b0b0'),\n",
       "  'day': 'Jue.',\n",
       "  'date': '21 NOV.',\n",
       "  'desc': 'Chubascos matinales',\n",
       "  'temp': '11°5°',\n",
       "  'precip': '40%',\n",
       "  'wind': 'OSO 15 km/h ',\n",
       "  'humidity': '72%'},\n",
       " {'_id': ObjectId('5dc693f72b9a718d6857b0af'),\n",
       "  'day': 'Mié.',\n",
       "  'date': '20 NOV.',\n",
       "  'desc': 'Chubascos matinales',\n",
       "  'temp': '10°4°',\n",
       "  'precip': '40%',\n",
       "  'wind': 'O 16 km/h ',\n",
       "  'humidity': '72%'},\n",
       " {'_id': ObjectId('5dc693f72b9a718d6857b0ae'),\n",
       "  'day': 'Mar.',\n",
       "  'date': '19 NOV.',\n",
       "  'desc': 'Parcialmente nublado',\n",
       "  'temp': '11°3°',\n",
       "  'precip': '20%',\n",
       "  'wind': 'O 16 km/h ',\n",
       "  'humidity': '73%'},\n",
       " {'_id': ObjectId('5dc693f72b9a718d6857b0ad'),\n",
       "  'day': 'Lun.',\n",
       "  'date': '18 NOV.',\n",
       "  'desc': 'Parcialmente nublado',\n",
       "  'temp': '11°3°',\n",
       "  'precip': '20%',\n",
       "  'wind': 'ONO 16 km/h ',\n",
       "  'humidity': '68%'},\n",
       " {'_id': ObjectId('5dc693f72b9a718d6857b0ac'),\n",
       "  'day': 'Dom.',\n",
       "  'date': '17 NOV.',\n",
       "  'desc': 'Parcialmente nublado',\n",
       "  'temp': '10°2°',\n",
       "  'precip': '20%',\n",
       "  'wind': 'ONO 17 km/h ',\n",
       "  'humidity': '65%'},\n",
       " {'_id': ObjectId('5dc693f72b9a718d6857b0ab'),\n",
       "  'day': 'Sáb.',\n",
       "  'date': '16 NOV.',\n",
       "  'desc': 'Parcialmente nublado',\n",
       "  'temp': '9°2°',\n",
       "  'precip': '10%',\n",
       "  'wind': 'NO 21 km/h ',\n",
       "  'humidity': '65%'},\n",
       " {'_id': ObjectId('5dc693f72b9a718d6857b0aa'),\n",
       "  'day': 'Vie.',\n",
       "  'date': '15 NOV.',\n",
       "  'desc': 'Chubascos por la tarde',\n",
       "  'temp': '8°2°',\n",
       "  'precip': '40%',\n",
       "  'wind': 'O 27 km/h ',\n",
       "  'humidity': '67%'},\n",
       " {'_id': ObjectId('5dc693f72b9a718d6857b0a9'),\n",
       "  'day': 'Jue.',\n",
       "  'date': '14 NOV.',\n",
       "  'desc': 'Chubascos',\n",
       "  'temp': '9°3°',\n",
       "  'precip': '60%',\n",
       "  'wind': 'O 31 km/h ',\n",
       "  'humidity': '72%'}]"
      ]
     },
     "execution_count": 4,
     "metadata": {},
     "output_type": "execute_result"
    }
   ],
   "source": [
    "import model\n",
    "\n",
    "# model.get_sentiment_twitter('joker')\n",
    "# model.get_twitter('joker')\n",
    "model.get_weather()\n"
   ]
  },
  {
   "cell_type": "code",
   "execution_count": null,
   "metadata": {
    "collapsed": false,
    "pycharm": {
     "name": "#%%\n"
    }
   },
   "outputs": [],
   "source": [
    "\n"
   ]
  }
 ],
 "metadata": {
  "kernelspec": {
   "display_name": "Python 3",
   "language": "python",
   "name": "python3"
  },
  "language_info": {
   "codemirror_mode": {
    "name": "ipython",
    "version": 3
   },
   "file_extension": ".py",
   "mimetype": "text/x-python",
   "name": "python",
   "nbconvert_exporter": "python",
   "pygments_lexer": "ipython3",
   "version": "3.7.3"
  },
  "pycharm": {
   "stem_cell": {
    "cell_type": "raw",
    "source": [],
    "metadata": {
     "collapsed": false
    }
   }
  }
 },
 "nbformat": 4,
 "nbformat_minor": 2
}